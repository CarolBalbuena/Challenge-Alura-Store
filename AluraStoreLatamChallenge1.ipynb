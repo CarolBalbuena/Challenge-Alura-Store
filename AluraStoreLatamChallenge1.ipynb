{
  "nbformat": 4,
  "nbformat_minor": 0,
  "metadata": {
    "colab": {
      "provenance": []
    },
    "kernelspec": {
      "name": "python3",
      "display_name": "Python 3"
    },
    "language_info": {
      "name": "python"
    }
  },
  "cells": [
    {
      "cell_type": "markdown",
      "source": [
        "### Importación de datos\n",
        "\n"
      ],
      "metadata": {
        "id": "RhEdWd9YUR6H"
      }
    },
    {
      "cell_type": "code",
      "execution_count": 2,
      "metadata": {
        "colab": {
          "base_uri": "https://localhost:8080/",
          "height": 310
        },
        "id": "T3EvaeQ_INIL",
        "outputId": "722200ed-88be-4c50-94fc-d7808c0a9826"
      },
      "outputs": [
        {
          "output_type": "execute_result",
          "data": {
            "text/plain": [
              "            Producto Categoría del Producto    Precio  Costo de envío  \\\n",
              "0  Asistente virtual           Electrónicos  164300.0          6900.0   \n",
              "1    Mesa de comedor                Muebles  192300.0          8400.0   \n",
              "2      Juego de mesa               Juguetes  209600.0         15900.0   \n",
              "3         Microondas      Electrodomésticos  757500.0         41000.0   \n",
              "4   Silla de oficina                Muebles  335200.0         20200.0   \n",
              "\n",
              "  Fecha de Compra         Vendedor Lugar de Compra  Calificación  \\\n",
              "0      16/01/2021      Pedro Gomez          Bogotá             4   \n",
              "1      18/05/2022  Beatriz Morales        Medellín             1   \n",
              "2      15/03/2021   Juan Fernandez       Cartagena             1   \n",
              "3      03/05/2022   Juan Fernandez            Cali             4   \n",
              "4      07/11/2020    Maria Alfonso        Medellín             5   \n",
              "\n",
              "       Método de pago  Cantidad de cuotas       lat       lon  \n",
              "0  Tarjeta de crédito                   8   4.60971 -74.08175  \n",
              "1  Tarjeta de crédito                   4   6.25184 -75.56359  \n",
              "2  Tarjeta de crédito                   1  10.39972 -75.51444  \n",
              "3               Nequi                   1   3.43722 -76.52250  \n",
              "4               Nequi                   1   6.25184 -75.56359  "
            ],
            "text/html": [
              "\n",
              "  <div id=\"df-c268ee52-77d5-4e74-9725-7ce3024314a5\" class=\"colab-df-container\">\n",
              "    <div>\n",
              "<style scoped>\n",
              "    .dataframe tbody tr th:only-of-type {\n",
              "        vertical-align: middle;\n",
              "    }\n",
              "\n",
              "    .dataframe tbody tr th {\n",
              "        vertical-align: top;\n",
              "    }\n",
              "\n",
              "    .dataframe thead th {\n",
              "        text-align: right;\n",
              "    }\n",
              "</style>\n",
              "<table border=\"1\" class=\"dataframe\">\n",
              "  <thead>\n",
              "    <tr style=\"text-align: right;\">\n",
              "      <th></th>\n",
              "      <th>Producto</th>\n",
              "      <th>Categoría del Producto</th>\n",
              "      <th>Precio</th>\n",
              "      <th>Costo de envío</th>\n",
              "      <th>Fecha de Compra</th>\n",
              "      <th>Vendedor</th>\n",
              "      <th>Lugar de Compra</th>\n",
              "      <th>Calificación</th>\n",
              "      <th>Método de pago</th>\n",
              "      <th>Cantidad de cuotas</th>\n",
              "      <th>lat</th>\n",
              "      <th>lon</th>\n",
              "    </tr>\n",
              "  </thead>\n",
              "  <tbody>\n",
              "    <tr>\n",
              "      <th>0</th>\n",
              "      <td>Asistente virtual</td>\n",
              "      <td>Electrónicos</td>\n",
              "      <td>164300.0</td>\n",
              "      <td>6900.0</td>\n",
              "      <td>16/01/2021</td>\n",
              "      <td>Pedro Gomez</td>\n",
              "      <td>Bogotá</td>\n",
              "      <td>4</td>\n",
              "      <td>Tarjeta de crédito</td>\n",
              "      <td>8</td>\n",
              "      <td>4.60971</td>\n",
              "      <td>-74.08175</td>\n",
              "    </tr>\n",
              "    <tr>\n",
              "      <th>1</th>\n",
              "      <td>Mesa de comedor</td>\n",
              "      <td>Muebles</td>\n",
              "      <td>192300.0</td>\n",
              "      <td>8400.0</td>\n",
              "      <td>18/05/2022</td>\n",
              "      <td>Beatriz Morales</td>\n",
              "      <td>Medellín</td>\n",
              "      <td>1</td>\n",
              "      <td>Tarjeta de crédito</td>\n",
              "      <td>4</td>\n",
              "      <td>6.25184</td>\n",
              "      <td>-75.56359</td>\n",
              "    </tr>\n",
              "    <tr>\n",
              "      <th>2</th>\n",
              "      <td>Juego de mesa</td>\n",
              "      <td>Juguetes</td>\n",
              "      <td>209600.0</td>\n",
              "      <td>15900.0</td>\n",
              "      <td>15/03/2021</td>\n",
              "      <td>Juan Fernandez</td>\n",
              "      <td>Cartagena</td>\n",
              "      <td>1</td>\n",
              "      <td>Tarjeta de crédito</td>\n",
              "      <td>1</td>\n",
              "      <td>10.39972</td>\n",
              "      <td>-75.51444</td>\n",
              "    </tr>\n",
              "    <tr>\n",
              "      <th>3</th>\n",
              "      <td>Microondas</td>\n",
              "      <td>Electrodomésticos</td>\n",
              "      <td>757500.0</td>\n",
              "      <td>41000.0</td>\n",
              "      <td>03/05/2022</td>\n",
              "      <td>Juan Fernandez</td>\n",
              "      <td>Cali</td>\n",
              "      <td>4</td>\n",
              "      <td>Nequi</td>\n",
              "      <td>1</td>\n",
              "      <td>3.43722</td>\n",
              "      <td>-76.52250</td>\n",
              "    </tr>\n",
              "    <tr>\n",
              "      <th>4</th>\n",
              "      <td>Silla de oficina</td>\n",
              "      <td>Muebles</td>\n",
              "      <td>335200.0</td>\n",
              "      <td>20200.0</td>\n",
              "      <td>07/11/2020</td>\n",
              "      <td>Maria Alfonso</td>\n",
              "      <td>Medellín</td>\n",
              "      <td>5</td>\n",
              "      <td>Nequi</td>\n",
              "      <td>1</td>\n",
              "      <td>6.25184</td>\n",
              "      <td>-75.56359</td>\n",
              "    </tr>\n",
              "  </tbody>\n",
              "</table>\n",
              "</div>\n",
              "    <div class=\"colab-df-buttons\">\n",
              "\n",
              "  <div class=\"colab-df-container\">\n",
              "    <button class=\"colab-df-convert\" onclick=\"convertToInteractive('df-c268ee52-77d5-4e74-9725-7ce3024314a5')\"\n",
              "            title=\"Convert this dataframe to an interactive table.\"\n",
              "            style=\"display:none;\">\n",
              "\n",
              "  <svg xmlns=\"http://www.w3.org/2000/svg\" height=\"24px\" viewBox=\"0 -960 960 960\">\n",
              "    <path d=\"M120-120v-720h720v720H120Zm60-500h600v-160H180v160Zm220 220h160v-160H400v160Zm0 220h160v-160H400v160ZM180-400h160v-160H180v160Zm440 0h160v-160H620v160ZM180-180h160v-160H180v160Zm440 0h160v-160H620v160Z\"/>\n",
              "  </svg>\n",
              "    </button>\n",
              "\n",
              "  <style>\n",
              "    .colab-df-container {\n",
              "      display:flex;\n",
              "      gap: 12px;\n",
              "    }\n",
              "\n",
              "    .colab-df-convert {\n",
              "      background-color: #E8F0FE;\n",
              "      border: none;\n",
              "      border-radius: 50%;\n",
              "      cursor: pointer;\n",
              "      display: none;\n",
              "      fill: #1967D2;\n",
              "      height: 32px;\n",
              "      padding: 0 0 0 0;\n",
              "      width: 32px;\n",
              "    }\n",
              "\n",
              "    .colab-df-convert:hover {\n",
              "      background-color: #E2EBFA;\n",
              "      box-shadow: 0px 1px 2px rgba(60, 64, 67, 0.3), 0px 1px 3px 1px rgba(60, 64, 67, 0.15);\n",
              "      fill: #174EA6;\n",
              "    }\n",
              "\n",
              "    .colab-df-buttons div {\n",
              "      margin-bottom: 4px;\n",
              "    }\n",
              "\n",
              "    [theme=dark] .colab-df-convert {\n",
              "      background-color: #3B4455;\n",
              "      fill: #D2E3FC;\n",
              "    }\n",
              "\n",
              "    [theme=dark] .colab-df-convert:hover {\n",
              "      background-color: #434B5C;\n",
              "      box-shadow: 0px 1px 3px 1px rgba(0, 0, 0, 0.15);\n",
              "      filter: drop-shadow(0px 1px 2px rgba(0, 0, 0, 0.3));\n",
              "      fill: #FFFFFF;\n",
              "    }\n",
              "  </style>\n",
              "\n",
              "    <script>\n",
              "      const buttonEl =\n",
              "        document.querySelector('#df-c268ee52-77d5-4e74-9725-7ce3024314a5 button.colab-df-convert');\n",
              "      buttonEl.style.display =\n",
              "        google.colab.kernel.accessAllowed ? 'block' : 'none';\n",
              "\n",
              "      async function convertToInteractive(key) {\n",
              "        const element = document.querySelector('#df-c268ee52-77d5-4e74-9725-7ce3024314a5');\n",
              "        const dataTable =\n",
              "          await google.colab.kernel.invokeFunction('convertToInteractive',\n",
              "                                                    [key], {});\n",
              "        if (!dataTable) return;\n",
              "\n",
              "        const docLinkHtml = 'Like what you see? Visit the ' +\n",
              "          '<a target=\"_blank\" href=https://colab.research.google.com/notebooks/data_table.ipynb>data table notebook</a>'\n",
              "          + ' to learn more about interactive tables.';\n",
              "        element.innerHTML = '';\n",
              "        dataTable['output_type'] = 'display_data';\n",
              "        await google.colab.output.renderOutput(dataTable, element);\n",
              "        const docLink = document.createElement('div');\n",
              "        docLink.innerHTML = docLinkHtml;\n",
              "        element.appendChild(docLink);\n",
              "      }\n",
              "    </script>\n",
              "  </div>\n",
              "\n",
              "\n",
              "    <div id=\"df-5ccfcb7c-99b9-453b-a754-3b57e15cf213\">\n",
              "      <button class=\"colab-df-quickchart\" onclick=\"quickchart('df-5ccfcb7c-99b9-453b-a754-3b57e15cf213')\"\n",
              "                title=\"Suggest charts\"\n",
              "                style=\"display:none;\">\n",
              "\n",
              "<svg xmlns=\"http://www.w3.org/2000/svg\" height=\"24px\"viewBox=\"0 0 24 24\"\n",
              "     width=\"24px\">\n",
              "    <g>\n",
              "        <path d=\"M19 3H5c-1.1 0-2 .9-2 2v14c0 1.1.9 2 2 2h14c1.1 0 2-.9 2-2V5c0-1.1-.9-2-2-2zM9 17H7v-7h2v7zm4 0h-2V7h2v10zm4 0h-2v-4h2v4z\"/>\n",
              "    </g>\n",
              "</svg>\n",
              "      </button>\n",
              "\n",
              "<style>\n",
              "  .colab-df-quickchart {\n",
              "      --bg-color: #E8F0FE;\n",
              "      --fill-color: #1967D2;\n",
              "      --hover-bg-color: #E2EBFA;\n",
              "      --hover-fill-color: #174EA6;\n",
              "      --disabled-fill-color: #AAA;\n",
              "      --disabled-bg-color: #DDD;\n",
              "  }\n",
              "\n",
              "  [theme=dark] .colab-df-quickchart {\n",
              "      --bg-color: #3B4455;\n",
              "      --fill-color: #D2E3FC;\n",
              "      --hover-bg-color: #434B5C;\n",
              "      --hover-fill-color: #FFFFFF;\n",
              "      --disabled-bg-color: #3B4455;\n",
              "      --disabled-fill-color: #666;\n",
              "  }\n",
              "\n",
              "  .colab-df-quickchart {\n",
              "    background-color: var(--bg-color);\n",
              "    border: none;\n",
              "    border-radius: 50%;\n",
              "    cursor: pointer;\n",
              "    display: none;\n",
              "    fill: var(--fill-color);\n",
              "    height: 32px;\n",
              "    padding: 0;\n",
              "    width: 32px;\n",
              "  }\n",
              "\n",
              "  .colab-df-quickchart:hover {\n",
              "    background-color: var(--hover-bg-color);\n",
              "    box-shadow: 0 1px 2px rgba(60, 64, 67, 0.3), 0 1px 3px 1px rgba(60, 64, 67, 0.15);\n",
              "    fill: var(--button-hover-fill-color);\n",
              "  }\n",
              "\n",
              "  .colab-df-quickchart-complete:disabled,\n",
              "  .colab-df-quickchart-complete:disabled:hover {\n",
              "    background-color: var(--disabled-bg-color);\n",
              "    fill: var(--disabled-fill-color);\n",
              "    box-shadow: none;\n",
              "  }\n",
              "\n",
              "  .colab-df-spinner {\n",
              "    border: 2px solid var(--fill-color);\n",
              "    border-color: transparent;\n",
              "    border-bottom-color: var(--fill-color);\n",
              "    animation:\n",
              "      spin 1s steps(1) infinite;\n",
              "  }\n",
              "\n",
              "  @keyframes spin {\n",
              "    0% {\n",
              "      border-color: transparent;\n",
              "      border-bottom-color: var(--fill-color);\n",
              "      border-left-color: var(--fill-color);\n",
              "    }\n",
              "    20% {\n",
              "      border-color: transparent;\n",
              "      border-left-color: var(--fill-color);\n",
              "      border-top-color: var(--fill-color);\n",
              "    }\n",
              "    30% {\n",
              "      border-color: transparent;\n",
              "      border-left-color: var(--fill-color);\n",
              "      border-top-color: var(--fill-color);\n",
              "      border-right-color: var(--fill-color);\n",
              "    }\n",
              "    40% {\n",
              "      border-color: transparent;\n",
              "      border-right-color: var(--fill-color);\n",
              "      border-top-color: var(--fill-color);\n",
              "    }\n",
              "    60% {\n",
              "      border-color: transparent;\n",
              "      border-right-color: var(--fill-color);\n",
              "    }\n",
              "    80% {\n",
              "      border-color: transparent;\n",
              "      border-right-color: var(--fill-color);\n",
              "      border-bottom-color: var(--fill-color);\n",
              "    }\n",
              "    90% {\n",
              "      border-color: transparent;\n",
              "      border-bottom-color: var(--fill-color);\n",
              "    }\n",
              "  }\n",
              "</style>\n",
              "\n",
              "      <script>\n",
              "        async function quickchart(key) {\n",
              "          const quickchartButtonEl =\n",
              "            document.querySelector('#' + key + ' button');\n",
              "          quickchartButtonEl.disabled = true;  // To prevent multiple clicks.\n",
              "          quickchartButtonEl.classList.add('colab-df-spinner');\n",
              "          try {\n",
              "            const charts = await google.colab.kernel.invokeFunction(\n",
              "                'suggestCharts', [key], {});\n",
              "          } catch (error) {\n",
              "            console.error('Error during call to suggestCharts:', error);\n",
              "          }\n",
              "          quickchartButtonEl.classList.remove('colab-df-spinner');\n",
              "          quickchartButtonEl.classList.add('colab-df-quickchart-complete');\n",
              "        }\n",
              "        (() => {\n",
              "          let quickchartButtonEl =\n",
              "            document.querySelector('#df-5ccfcb7c-99b9-453b-a754-3b57e15cf213 button');\n",
              "          quickchartButtonEl.style.display =\n",
              "            google.colab.kernel.accessAllowed ? 'block' : 'none';\n",
              "        })();\n",
              "      </script>\n",
              "    </div>\n",
              "\n",
              "    </div>\n",
              "  </div>\n"
            ],
            "application/vnd.google.colaboratory.intrinsic+json": {
              "type": "dataframe",
              "variable_name": "tienda",
              "summary": "{\n  \"name\": \"tienda\",\n  \"rows\": 2359,\n  \"fields\": [\n    {\n      \"column\": \"Producto\",\n      \"properties\": {\n        \"dtype\": \"category\",\n        \"num_unique_values\": 51,\n        \"samples\": [\n          \"Guitarra ac\\u00fastica\",\n          \"Bal\\u00f3n de baloncesto\",\n          \"Smartwatch\"\n        ],\n        \"semantic_type\": \"\",\n        \"description\": \"\"\n      }\n    },\n    {\n      \"column\": \"Categor\\u00eda del Producto\",\n      \"properties\": {\n        \"dtype\": \"category\",\n        \"num_unique_values\": 8,\n        \"samples\": [\n          \"Muebles\",\n          \"Deportes y diversi\\u00f3n\",\n          \"Electr\\u00f3nicos\"\n        ],\n        \"semantic_type\": \"\",\n        \"description\": \"\"\n      }\n    },\n    {\n      \"column\": \"Precio\",\n      \"properties\": {\n        \"dtype\": \"number\",\n        \"std\": 614686.7653873172,\n        \"min\": 7600.0,\n        \"max\": 2977000.0,\n        \"num_unique_values\": 1937,\n        \"samples\": [\n          2499400.0,\n          14800.0,\n          80500.0\n        ],\n        \"semantic_type\": \"\",\n        \"description\": \"\"\n      }\n    },\n    {\n      \"column\": \"Costo de env\\u00edo\",\n      \"properties\": {\n        \"dtype\": \"number\",\n        \"std\": 32860.0017825605,\n        \"min\": 0.0,\n        \"max\": 160800.0,\n        \"num_unique_values\": 753,\n        \"samples\": [\n          117800.0,\n          54700.0,\n          45600.0\n        ],\n        \"semantic_type\": \"\",\n        \"description\": \"\"\n      }\n    },\n    {\n      \"column\": \"Fecha de Compra\",\n      \"properties\": {\n        \"dtype\": \"object\",\n        \"num_unique_values\": 1018,\n        \"samples\": [\n          \"15/09/2022\",\n          \"03/06/2020\",\n          \"06/11/2021\"\n        ],\n        \"semantic_type\": \"\",\n        \"description\": \"\"\n      }\n    },\n    {\n      \"column\": \"Vendedor\",\n      \"properties\": {\n        \"dtype\": \"category\",\n        \"num_unique_values\": 14,\n        \"samples\": [\n          \"Juliana Costa\",\n          \"Mariana Herrera\",\n          \"Pedro Gomez\"\n        ],\n        \"semantic_type\": \"\",\n        \"description\": \"\"\n      }\n    },\n    {\n      \"column\": \"Lugar de Compra\",\n      \"properties\": {\n        \"dtype\": \"category\",\n        \"num_unique_values\": 19,\n        \"samples\": [\n          \"Bogot\\u00e1\",\n          \"Pereira\",\n          \"Neiva\"\n        ],\n        \"semantic_type\": \"\",\n        \"description\": \"\"\n      }\n    },\n    {\n      \"column\": \"Calificaci\\u00f3n\",\n      \"properties\": {\n        \"dtype\": \"number\",\n        \"std\": 1,\n        \"min\": 1,\n        \"max\": 5,\n        \"num_unique_values\": 5,\n        \"samples\": [\n          1,\n          2,\n          5\n        ],\n        \"semantic_type\": \"\",\n        \"description\": \"\"\n      }\n    },\n    {\n      \"column\": \"M\\u00e9todo de pago\",\n      \"properties\": {\n        \"dtype\": \"category\",\n        \"num_unique_values\": 4,\n        \"samples\": [\n          \"Nequi\",\n          \"Tarjeta de d\\u00e9bito\",\n          \"Tarjeta de cr\\u00e9dito\"\n        ],\n        \"semantic_type\": \"\",\n        \"description\": \"\"\n      }\n    },\n    {\n      \"column\": \"Cantidad de cuotas\",\n      \"properties\": {\n        \"dtype\": \"number\",\n        \"std\": 2,\n        \"min\": 1,\n        \"max\": 24,\n        \"num_unique_values\": 15,\n        \"samples\": [\n          7,\n          14,\n          8\n        ],\n        \"semantic_type\": \"\",\n        \"description\": \"\"\n      }\n    },\n    {\n      \"column\": \"lat\",\n      \"properties\": {\n        \"dtype\": \"number\",\n        \"std\": 2.2874452492678627,\n        \"min\": -4.21528,\n        \"max\": 11.54444,\n        \"num_unique_values\": 19,\n        \"samples\": [\n          4.60971,\n          4.81333,\n          2.9273\n        ],\n        \"semantic_type\": \"\",\n        \"description\": \"\"\n      }\n    },\n    {\n      \"column\": \"lon\",\n      \"properties\": {\n        \"dtype\": \"number\",\n        \"std\": 1.2178272727088486,\n        \"min\": -77.28111,\n        \"max\": -67.9239,\n        \"num_unique_values\": 19,\n        \"samples\": [\n          -74.08175,\n          -75.69611,\n          -75.28189\n        ],\n        \"semantic_type\": \"\",\n        \"description\": \"\"\n      }\n    }\n  ]\n}"
            }
          },
          "metadata": {},
          "execution_count": 2
        }
      ],
      "source": [
        "\n",
        "import pandas as pd\n",
        "\n",
        "url = \"https://raw.githubusercontent.com/alura-es-cursos/challenge1-data-science-latam/refs/heads/main/base-de-datos-challenge1-latam/tienda_1%20.csv\"\n",
        "url2 = \"https://raw.githubusercontent.com/alura-es-cursos/challenge1-data-science-latam/refs/heads/main/base-de-datos-challenge1-latam/tienda_2.csv\"\n",
        "url3 = \"https://raw.githubusercontent.com/alura-es-cursos/challenge1-data-science-latam/refs/heads/main/base-de-datos-challenge1-latam/tienda_3.csv\"\n",
        "url4 = \"https://raw.githubusercontent.com/alura-es-cursos/challenge1-data-science-latam/refs/heads/main/base-de-datos-challenge1-latam/tienda_4.csv\"\n",
        "\n",
        "tienda = pd.read_csv(url)\n",
        "tienda2 = pd.read_csv(url2)\n",
        "tienda3 = pd.read_csv(url3)\n",
        "tienda4 = pd.read_csv(url4)\n",
        "\n",
        "tienda.head()"
      ]
    },
    {
      "cell_type": "code",
      "source": [
        "from urllib.request import urlopen\n",
        "import csv\n",
        "\n",
        "urls = [url, url2, url3, url4]\n",
        "\n",
        "# función para leer el csv\n",
        "def leer_csv(url):\n",
        "    datos = []\n",
        "    try:\n",
        "        with urlopen(url) as respuesta:\n",
        "            lineas = respuesta.read().decode('utf-8').splitlines()\n",
        "            lector = csv.DictReader(lineas)\n",
        "            for fila in lector:\n",
        "                datos.append(fila)\n",
        "    except Exception as e:\n",
        "        print(f\"Error al leer el CSV: {e}\")\n",
        "    return datos"
      ],
      "metadata": {
        "id": "75N03HtxZEPy"
      },
      "execution_count": 3,
      "outputs": []
    },
    {
      "cell_type": "code",
      "source": [
        "from matplotlib import pyplot as plt"
      ],
      "metadata": {
        "id": "CebVYQyJc-f0"
      },
      "execution_count": 4,
      "outputs": []
    },
    {
      "cell_type": "code",
      "source": [],
      "metadata": {
        "id": "O0RFqpQq2KgU"
      },
      "execution_count": 4,
      "outputs": []
    },
    {
      "cell_type": "markdown",
      "source": [
        "#1. Análisis de facturación\n",
        "\n"
      ],
      "metadata": {
        "id": "X62IW3KFUIYm"
      }
    },
    {
      "cell_type": "code",
      "source": [
        "\n",
        "facturacionTienda1 = tienda['Precio'].astype(float).sum()\n",
        "facturacionTienda2 = tienda2['Precio'].astype(float).sum()\n",
        "facturacionTienda3 = tienda3['Precio'].astype(float).sum()\n",
        "facturacionTienda4 = tienda4['Precio'].astype(float).sum()\n",
        "\n",
        "\n",
        "print(f\"Facturación Tienda 1: ${facturacionTienda1:.2f}\")\n",
        "print(f\"Facturación Tienda 2: ${facturacionTienda2:.2f}\")\n",
        "print(f\"Facturación Tienda 3: ${facturacionTienda3:.2f}\")\n",
        "print(f\"Facturación Tienda 4: ${facturacionTienda4:.2f}\")\n",
        "\n"
      ],
      "metadata": {
        "id": "xykobSftV64I",
        "colab": {
          "base_uri": "https://localhost:8080/"
        },
        "outputId": "a4d96b01-02f0-4d23-a21a-bb285a2e0a66"
      },
      "execution_count": 5,
      "outputs": [
        {
          "output_type": "stream",
          "name": "stdout",
          "text": [
            "Facturación Tienda 1: $1150880400.00\n",
            "Facturación Tienda 2: $1116343500.00\n",
            "Facturación Tienda 3: $1098019600.00\n",
            "Facturación Tienda 4: $1038375700.00\n"
          ]
        }
      ]
    },
    {
      "cell_type": "markdown",
      "source": [
        "# 2. Ventas por categoría"
      ],
      "metadata": {
        "id": "2V_vcAPzWZmR"
      }
    },
    {
      "cell_type": "code",
      "source": [
        "tienda1=tienda.groupby('Categoría del Producto')['Precio'].sum()\n",
        "tienda2=tienda2.groupby('Categoría del Producto')['Precio'].sum()\n",
        "tienda3=tienda3.groupby('Categoría del Producto')['Precio'].sum()\n",
        "tienda4=tienda4.groupby('Categoría del Producto')['Precio'].sum()\n",
        "print(f'tienda 1 por {tienda1}')\n",
        "print(f'tienda 2 por {tienda2}')\n",
        "print(f'tienda 3 por {tienda3}')\n",
        "print(f'tienda 4 por {tienda4}')"
      ],
      "metadata": {
        "colab": {
          "base_uri": "https://localhost:8080/"
        },
        "id": "rOlAsqm361PF",
        "outputId": "d564651c-9dff-42d0-eaf1-4510202deb7f"
      },
      "execution_count": 6,
      "outputs": [
        {
          "output_type": "stream",
          "name": "stdout",
          "text": [
            "tienda 1 por Categoría del Producto\n",
            "Artículos para el hogar     12698400.0\n",
            "Deportes y diversión        39290000.0\n",
            "Electrodomésticos          363685200.0\n",
            "Electrónicos               429493500.0\n",
            "Instrumentos musicales      91299000.0\n",
            "Juguetes                    17995700.0\n",
            "Libros                       8784900.0\n",
            "Muebles                    187633700.0\n",
            "Name: Precio, dtype: float64\n",
            "tienda 2 por Categoría del Producto\n",
            "Artículos para el hogar     14746900.0\n",
            "Deportes y diversión        34744500.0\n",
            "Electrodomésticos          348567800.0\n",
            "Electrónicos               410831100.0\n",
            "Instrumentos musicales     104990300.0\n",
            "Juguetes                    15945400.0\n",
            "Libros                      10091200.0\n",
            "Muebles                    176426300.0\n",
            "Name: Precio, dtype: float64\n",
            "tienda 3 por Categoría del Producto\n",
            "Artículos para el hogar     15060000.0\n",
            "Deportes y diversión        35593100.0\n",
            "Electrodomésticos          329237900.0\n",
            "Electrónicos               410775800.0\n",
            "Instrumentos musicales      77380900.0\n",
            "Juguetes                    19401100.0\n",
            "Libros                       9498700.0\n",
            "Muebles                    201072100.0\n",
            "Name: Precio, dtype: float64\n",
            "tienda 4 por Categoría del Producto\n",
            "Artículos para el hogar     15074500.0\n",
            "Deportes y diversión        33350100.0\n",
            "Electrodomésticos          283260200.0\n",
            "Electrónicos               409476100.0\n",
            "Instrumentos musicales      75102400.0\n",
            "Juguetes                    20262200.0\n",
            "Libros                       9321300.0\n",
            "Muebles                    192528900.0\n",
            "Name: Precio, dtype: float64\n"
          ]
        }
      ]
    },
    {
      "cell_type": "markdown",
      "source": [
        "# 3. Calificación promedio de la tienda\n"
      ],
      "metadata": {
        "id": "Rq6tU_xSY3jk"
      }
    },
    {
      "cell_type": "code",
      "source": [
        "def calificacionPromedio(tienda, numero):\n",
        "    promedio =tienda['Calificación'].mean()\n",
        "    print(f\"Clasificación promedio en Tienda {numero}: {promedio:.2f}\")\n",
        "\n",
        "calificacionPromedio(tienda, 1)\n",
        "calificacionPromedio(tienda2, 2)\n",
        "calificacionPromedio(tienda3, 3)\n",
        "calificacionPromedio(tienda4, 4)"
      ],
      "metadata": {
        "id": "bh3jjjJwY5MU"
      },
      "execution_count": 8,
      "outputs": []
    },
    {
      "cell_type": "markdown",
      "source": [
        "# 4. Productos más y menos vendidos"
      ],
      "metadata": {
        "id": "DmNp1KPBZCm-"
      }
    },
    {
      "cell_type": "code",
      "source": [
        "\n",
        "dfTotal = pd.concat(\n",
        "    [pd.read_csv(url).assign(Tienda=f\"Tienda {i+1}\") for i, url in enumerate(urls)],\n",
        "    ignore_index=True\n",
        ")\n",
        "\n",
        "dfTotal['Precio'] = dfTotal['Precio'].astype(float)\n",
        "dfTotal['Cantidad de cuotas'] = dfTotal['Cantidad de cuotas'].astype(int)\n",
        "\n",
        "dfTotal['Ingreso'] = dfTotal['Precio']\n",
        "\n",
        "ventas = dfTotal.groupby(['Tienda', 'Producto'])['Ingreso'].sum().reset_index()\n",
        "\n",
        "def topProductos(tienda):\n",
        "    data = ventas[ventas['Tienda'] == tienda]\n",
        "\n",
        "    topMasVendidos = data.sort_values(by='Ingreso', ascending=False).head(3)\n",
        "    topMenosVendidos = data.sort_values(by='Ingreso', ascending=True).head(3)\n",
        "\n",
        "    print(f'\\n{tienda} - Los 3 productos que más se vendieron:')\n",
        "    for _, fila in topMasVendidos.iterrows():\n",
        "        print(f\"  {fila['Producto']} - Ingresos: ${fila['Ingreso']:.2f}\")\n",
        "\n",
        "    print(f'\\n{tienda} - los 3 productos que menos se vendieron:')\n",
        "    for _, fila in topMenosVendidos.iterrows():\n",
        "        print(f\"  {fila['Producto']} - Ingresos: ${fila['Ingreso']:.2f}\")\n",
        "\n",
        "tiendas_unicas = ventas['Tienda'].unique()\n",
        "for tienda in tiendas_unicas:\n",
        "    topProductos(tienda)"
      ],
      "metadata": {
        "id": "qoyjqijQZHfF",
        "colab": {
          "base_uri": "https://localhost:8080/"
        },
        "outputId": "c3d5d3be-8b9e-4b00-c254-1b36f3f15b14"
      },
      "execution_count": 9,
      "outputs": [
        {
          "output_type": "stream",
          "name": "stdout",
          "text": [
            "\n",
            "Tienda 1 - Los 3 productos que más se vendieron:\n",
            "  TV LED UHD 4K - Ingresos: $142150200.00\n",
            "  Refrigerador - Ingresos: $112143300.00\n",
            "  Iphone 15 - Ingresos: $97902200.00\n",
            "\n",
            "Tienda 1 - los 3 productos que menos se vendieron:\n",
            "  Cuerda para saltar - Ingresos: $652800.00\n",
            "  Dinosaurio Rex - Ingresos: $688900.00\n",
            "  Cubo mágico 8x8 - Ingresos: $696900.00\n",
            "\n",
            "Tienda 2 - Los 3 productos que más se vendieron:\n",
            "  Iphone 15 - Ingresos: $113225800.00\n",
            "  TV LED UHD 4K - Ingresos: $103375000.00\n",
            "  Refrigerador - Ingresos: $97632500.00\n",
            "\n",
            "Tienda 2 - los 3 productos que menos se vendieron:\n",
            "  Cubo mágico 8x8 - Ingresos: $643600.00\n",
            "  Dinosaurio Rex - Ingresos: $770300.00\n",
            "  Cuerda para saltar - Ingresos: $856900.00\n",
            "\n",
            "Tienda 3 - Los 3 productos que más se vendieron:\n",
            "  Refrigerador - Ingresos: $99889700.00\n",
            "  TV LED UHD 4K - Ingresos: $96669100.00\n",
            "  Iphone 15 - Ingresos: $93225700.00\n",
            "\n",
            "Tienda 3 - los 3 productos que menos se vendieron:\n",
            "  Cubo mágico 8x8 - Ingresos: $640400.00\n",
            "  Dinosaurio Rex - Ingresos: $795600.00\n",
            "  Cuerda para saltar - Ingresos: $853800.00\n",
            "\n",
            "Tienda 4 - Los 3 productos que más se vendieron:\n",
            "  Iphone 15 - Ingresos: $96697500.00\n",
            "  TV LED UHD 4K - Ingresos: $90295300.00\n",
            "  Smart TV - Ingresos: $82790400.00\n",
            "\n",
            "Tienda 4 - los 3 productos que menos se vendieron:\n",
            "  Cuerda para saltar - Ingresos: $704800.00\n",
            "  Cubo mágico 8x8 - Ingresos: $748400.00\n",
            "  Dinosaurio Rex - Ingresos: $858100.00\n"
          ]
        }
      ]
    },
    {
      "cell_type": "markdown",
      "source": [
        "# 5. Envío promedio por tienda"
      ],
      "metadata": {
        "id": "Fl0cGi3bZKqU"
      }
    },
    {
      "cell_type": "code",
      "source": [
        "dfTotal['Costo de envío'] = dfTotal['Costo de envío'].astype(float)\n",
        "\n",
        "envioPromedio = dfTotal.groupby('Tienda')['Costo de envío'].mean()\n",
        "\n",
        "print('El envío promedio por tienda es:')\n",
        "for tienda, promedio in envioPromedio.items():\n",
        "    print(f\"{tienda}: ${promedio:.2f}\")"
      ],
      "metadata": {
        "id": "S2JeaCykZNy9",
        "colab": {
          "base_uri": "https://localhost:8080/"
        },
        "outputId": "cf85f86c-1fee-4215-bbe9-c926a8b4122a"
      },
      "execution_count": 10,
      "outputs": [
        {
          "output_type": "stream",
          "name": "stdout",
          "text": [
            "El envío promedio por tienda es:\n",
            "Tienda 1: $26018.61\n",
            "Tienda 2: $25216.24\n",
            "Tienda 3: $24805.68\n",
            "Tienda 4: $23459.46\n"
          ]
        }
      ]
    },
    {
      "cell_type": "markdown",
      "source": [
        "##**Graficas del análisis**"
      ],
      "metadata": {
        "id": "XI4hZDqy_rjA"
      }
    },
    {
      "cell_type": "code",
      "source": [
        "#facturacion por tienda\n",
        "ingresosTotales = dfTotal.groupby('Tienda')['Ingreso'].sum()\n",
        "ingresoPromedio = dfTotal.groupby('Tienda')['Ingreso'].mean()\n",
        "distribucionIngresos = ingresosTotales\n",
        "\n",
        "colors = ['#dc1ed6', '#119aec', '#ec2111', '#43ec11']\n",
        "plt.figure(figsize=(7,7))\n",
        "distribucionIngresos.plot(kind='pie', autopct='%1.1f%%', startangle=90,colors=colors)\n",
        "plt.title('Porcentaje de ingresos por tienda')\n",
        "plt.ylabel('')\n",
        "plt.tight_layout()\n",
        "plt.show()"
      ],
      "metadata": {
        "id": "0tSdCie9ZQlt",
        "colab": {
          "base_uri": "https://localhost:8080/",
          "height": 707
        },
        "outputId": "36fb8f0f-49f0-4040-df7d-4b3e9daa6469"
      },
      "execution_count": 11,
      "outputs": [
        {
          "output_type": "display_data",
          "data": {
            "text/plain": [
              "<Figure size 700x700 with 1 Axes>"
            ],
            "image/png": "[encoded data removed]"
          },
          "metadata": {}
        }
      ]
    },
    {
      "cell_type": "code",
      "source": [
        "#calificación por tienda\n",
        "calificacionPromedio= dfTotal.groupby('Tienda')['Calificación'].mean()\n",
        "plt.figure(figsize=(8,2.5))\n",
        "calificacionPromedio.plot(kind='line', marker='o', linestyle='--', color='blue')\n",
        "plt.title('Calificacion por tienda ')\n",
        "plt.ylabel('Calificacion promedio')\n",
        "plt.xlabel('Tienda')\n",
        "plt.grid(True)\n",
        "plt.tight_layout()\n",
        "plt.show()"
      ],
      "metadata": {
        "colab": {
          "base_uri": "https://localhost:8080/",
          "height": 257
        },
        "id": "ZUpX91wDLhJB",
        "outputId": "0adde941-bf28-4f21-e67e-2cfee3690234"
      },
      "execution_count": 12,
      "outputs": [
        {
          "output_type": "display_data",
          "data": {
            "text/plain": [
              "<Figure size 800x250 with 1 Axes>"
            ],
            "image/png": "[encoded data removed]"
          },
          "metadata": {}
        }
      ]
    },
    {
      "cell_type": "code",
      "source": [
        "#envio promedio de entrega\n",
        "envioPromedio= dfTotal.groupby('Tienda')['Costo de envío'].mean()\n",
        "plt.figure(figsize=(8,5))\n",
        "envioPromedio.plot(kind='barh')\n",
        "plt.title('Envio promedio')\n",
        "plt.ylabel('Tienda')\n",
        "plt.xlabel('$ Envio')\n",
        "plt.grid(axis='y')\n",
        "plt.tight_layout()\n",
        "plt.show()\n"
      ],
      "metadata": {
        "colab": {
          "base_uri": "https://localhost:8080/",
          "height": 507
        },
        "id": "cgior7OMMxpV",
        "outputId": "d2d1bb86-3c62-42b3-e2ab-6385b72601d8"
      },
      "execution_count": 13,
      "outputs": [
        {
          "output_type": "display_data",
          "data": {
            "text/plain": [
              "<Figure size 800x500 with 1 Axes>"
            ],
            "image/png": "[encoded data removed]"
          },
          "metadata": {}
        }
      ]
    },
    {
      "cell_type": "markdown",
      "source": [
        "# **INFORME FINAL**"
      ],
      "metadata": {
        "id": "g1VnQneED1T7"
      }
    },
    {
      "cell_type": "markdown",
      "source": [
        "## **Introducción:**\n",
        "El siguiente informe se realiza con el objetivo de poder brindarle al sr. juan una orientación más objetiva sobre su problemática de esta manera poder proponer la mejor solución sobre cual es de las cuatro tiendas es más recomendable vender.\n",
        "Para poder brindarle la orientación correcta se tomaron en cuenta los siguientes puntos:\n",
        "* Facturación por cada tienda\n",
        "* Ventas por categoría\n",
        "* Calificación promedio de la tienda\n",
        "* Productos más y menos vendidos\n",
        "* Envió promedio por tienda\n"
      ],
      "metadata": {
        "id": "x00tdNbfE8wK"
      }
    },
    {
      "cell_type": "markdown",
      "source": [
        "### Ingresos totales\n",
        "En el análisis de ingresos totales por tienda se obtuvieron los siguientes resultados:\n",
        "\n",
        "* Facturación Tienda 1: 1150880400.00\n",
        "* Facturación Tienda 2: 1116343500.00\n",
        "* Facturación Tienda 3: 1098019600.00\n",
        "* Facturación Tienda 4: 1038375700.00\n",
        "\n",
        "Como se puede observar la tienda uno y dos son las que registran un mayor ingreso seguida por la tienda tres la cual baja su ingreso, pero no es tanta la brecha que se tiene como en el caso de la tienda 4 donde podemos observar que registra menor ingreso, hablando en porcentajes del 100% de las ventas esta solo aporta el 23.6%\n"
      ],
      "metadata": {
        "id": "wO5MYARlDVUY"
      }
    },
    {
      "cell_type": "markdown",
      "source": [
        "### Ventas por categoria\n",
        "\n",
        "Analizando las ventas podemos observar que en las cuatro tiendas resaltan las mismas categorías por lo cual concluimos que hay una tendencia en las preferencias por parte del consumidor, las categorías más vendidas son:\n",
        "* Artículos para el hogar     \n",
        "* Deportes y diversión        \n",
        "* Electrodomésticos          \n",
        "* Electrónicos               \n",
        "* Instrumentos musicales     \n",
        "* Juguetes                    \n",
        "* Libros                     \n",
        "* Muebles  \n",
        "\n",
        "Al igual podemos observar que hay una similitud en los artículos más y menos vendidos de las tiendas.\n",
        "\n",
        "En la tienda 1 podemos observar que los artículos más vendidos son con el primer puesto las TV LED UHD 4K seguida de refrigerador y iPhone 15.\n",
        "\n",
        "En la tienda 2 se tienen los mismos artículos con la diferencia que el iPhone 15 es su producto más vendido y la TV LED UHD 4K el subsecuente, así como el refrigerador.\n",
        "\n",
        "En tienda 3 los artículos también coinciden solo que en esta el Refrigerador es el producto más vendido seguido de la TV LED UHD 4K y iPhone 15.\n",
        "\n",
        "En la tienda 4 tenemos un ligero cambio ya podemos observar que el refrigerador sale del top 3 de los más vendidos así que este top queda de la siguiente manera iPhone 15, TV LED UHD 4K, Smart TV\n",
        "\n",
        "Para el top de los menos vendidos todas las tiendan reportan que son Cuerda para saltar, Cubo mágico 8x8, Dinosaurio Rex.\n"
      ],
      "metadata": {
        "id": "agq3XKFqFVbw"
      }
    },
    {
      "cell_type": "markdown",
      "source": [
        "### Calificación por tienda\n",
        "\n",
        "Para poder tomar un promedio de calificación por cada tienda se usó las puntuaciones que los clientes le dieron a cada una de ellas.\n",
        "\n",
        "En este caso la tienda que destaca con mejor calificación es la numero 3 con una con una puntuación de 4.05 seguida por la tienda 2 con una puntuación de 4.04 a continuación la tienda 4 con la puntuación de 4.00 y al final la tienda 1 con puntuación 3.98 como podemos notar la diferencia que se tiene entre la tienda 3 y 1 es de .07 dando entender que en la tienda 3 pueden dar mejor servicio.\n"
      ],
      "metadata": {
        "id": "bQe1daUP-n8w"
      }
    },
    {
      "cell_type": "markdown",
      "source": [
        "### Envio promedio por tienda\n",
        "\n",
        "La tienda que reporta mejor precio en envió es la numero 4 con un costo de 23459.46 seguido por tienda 3, 2 y la tienda que reporta un coste de envió más caro es la tienda 1 con un coste de 26018.61"
      ],
      "metadata": {
        "id": "vaaocX3-B3jq"
      }
    },
    {
      "cell_type": "markdown",
      "source": [
        "### Conclusión\n",
        "\n",
        "Con el análisis anterior podemos concluir que la tienda 1 es la que mejor rendimiento tiende en cuanto a ventas a pesar de que no es la tienda que tiene mejor calificación por parte de los clientes, se sugiere que se invierta más en el aspecto de servicio para mejorar la experiencia que se tenga al comprar.\n",
        "\n",
        "La tienda 2 es la segunda tienda que reporta buenas ganancias además de obtener el segundo lugar en calificación, su envió promedio se encuentra entre los más caros, pero no el más caro.\n",
        "\n",
        "la tienda 3 destaca por haber obtenido la calificación promedio más alta y no es la tienda que factura menos además de que se encuentra en los entre los envíos más baratos.\n",
        "\n",
        "La tienda 4 sobresale por ser la tienda con él envió más económico que se tiene, se encuentra en la posición 3 del promedio de calificaciones de las cuarto tiendas, pero aun así el rendimiento económico es bajo colocándola como la tienda con menor ganancias.\n",
        "\n",
        "Contando con lo anterior podemos sugerir al sr juan que la tienda que recomendamos vender es la número 4 ya que a pesar de contar con puntos sobresalientes esta no genera las mismas ganancias que las tiendas 1,2 y 3.\n",
        "\n",
        "\n"
      ],
      "metadata": {
        "id": "8PSdTBxJCF6D"
      }
    }
  ]
}